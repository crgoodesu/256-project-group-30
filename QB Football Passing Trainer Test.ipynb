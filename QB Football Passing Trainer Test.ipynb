{
 "cells": [
  {
   "cell_type": "code",
   "execution_count": 1,
   "metadata": {},
   "outputs": [
    {
     "ename": "SyntaxError",
     "evalue": "invalid syntax (<ipython-input-1-a50eb88b24c8>, line 2)",
     "output_type": "error",
     "traceback": [
      "\u001b[0;36m  File \u001b[0;32m\"<ipython-input-1-a50eb88b24c8>\"\u001b[0;36m, line \u001b[0;32m2\u001b[0m\n\u001b[0;31m    -#Offensive play selection\u001b[0m\n\u001b[0m                              ^\u001b[0m\n\u001b[0;31mSyntaxError\u001b[0m\u001b[0;31m:\u001b[0m invalid syntax\n"
     ]
    }
   ],
   "source": [
    "#Inputs:\n",
    "-#Offensive play selection\n",
    "\n",
    "#Outputs: \n",
    "-#Greeting statement\n",
    "-#List of offensive plays\n",
    "-#Statement prompting offensive play selection from the user\n",
    "-#Random selection from the coverage list\n",
    "-#Statements informing the user their answer is correct\n",
    "-#Statements informing the user their answer is incorrect\n",
    "\n",
    "#Algorithm:\n",
    "-#Print greeting statement\n",
    "-#Create list of plays\n",
    "-#Print list of plays\n",
    "-#Print statement prompting offensive play selection from the user\n",
    "-#while True loop\n",
    "-#Import random module\n",
    "-#Create list of coverages\n",
    "-#Create variable to randomize the list of coverages\n",
    "-#Print variable\n",
    "-#Create input for user's offensive play selection\n",
    "-#Conditional if statement for using quitting the program\n",
    "-#Beak while True loop\n",
    "-#Try and except\n",
    "-#Conditional if and elif statements for each coverage and it's corresponding offensive play\n",
    "-#Print statements indicating correct user answer for each coverage\n",
    "-#Else\n",
    "-#Print statement indicating incorrect user answer\n",
    "-#End try and except\n",
    "-#Print statement indicating incorrect user answer"
   ]
  },
  {
   "cell_type": "code",
   "execution_count": null,
   "metadata": {},
   "outputs": [],
   "source": [
    "print(\"Welcome to the QB Football Passing Trainer!\")\n",
    "\n",
    "\n",
    "\n",
    "play_list = [ 'Curl and Seams', 'Weak Flats and Flood', 'Crosses', 'Verts and Slants', 'Flats and Options', \n",
    "             'Weak Flats and Curls']\n",
    "print(play_list)\n",
    "\n",
    "\n",
    "print(\"Please choose the play that would best fit based on the coverage provided. \")\n",
    "\n",
    "\n",
    "\n",
    "while True:\n",
    "    import random\n",
    "    coverage_list = [ 'Cover 0', 'Cover 1', 'Cover 2', 'Cover 3', 'Cover 4', 'Cover 6']\n",
    "    defense = random.choice(coverage_list)\n",
    "    print(defense)\n",
    "    play_selection = input(str(\"Offensive Play: \"))\n",
    "    \n",
    "    if play_selection =='quit':\n",
    "        break\n",
    "        \n",
    "    try:\n",
    "        if defense == 'Cover 0' and play_slection == 'Crosses':\n",
    "            print(\"Your play selection is the correct anwser\")  \n",
    "        elif defense == 'Cover 1' and play_selection == 'Verts and Slants':                \n",
    "            print(\"Your play selection is the correct anwser\")            \n",
    "        elif defense == 'Cover 2' and play_selection == 'Curls and Seams':\n",
    "            print(\"Your play selection is the correct anwser\")\n",
    "        elif defense == 'Cover 3' and play_selection == 'Weak Flats and Floods':\n",
    "            print(\"Your play selection is the correct anwser\")         \n",
    "        elif defense == 'Cover 4' and play_selection == 'Flats and Options':\n",
    "            print(\"Your play selection is the correct anwser\")            \n",
    "        elif defense == 'Cover 6' and play_selection == 'Weak Flats and Curls':\n",
    "            print(\"Your play selection is the correct anwser\")\n",
    "            \n",
    "        else:\n",
    "            print(\"Please Try again. Incorrect! \")\n",
    "            \n",
    "        \n",
    "    except:\n",
    "        print(\"Please Try again. Incorrect! \")\n",
    "        "
   ]
  },
  {
   "cell_type": "code",
   "execution_count": null,
   "metadata": {},
   "outputs": [],
   "source": [
    "#HOW EACH GROUP MEMBER CONTRIBUTED TO THE FINAL PROJECT PHASE\n",
    "\n",
    "#Cole Goode: My contribution to this final project phase is that I created the poster we used for our Demo Day Presentation, along with filming the video for our Demo Day reflection. I also helped to create the inputs and outputs used in our code. \n",
    "\n",
    "#Henry LeMaire: My contribution to this final project phase is that I was responsible for creating the High-Level Algorithm for our program. I also contributed to writing a lot of the code for our program, specifically creating the lists of coverages and offensive plays along with importing the random module and creating the variable to randomize the list of coverages.\n",
    "\n",
    "#Jonathan Rich: My contribution to this final project phase is the creation of our project idea, and knowledge of coverages and defenses.  Also, wrote the function code, the while True loop, and the try and except error handling code.  Tried to give the test a score, but could not figure it out."
   ]
  }
 ],
 "metadata": {
  "kernelspec": {
   "display_name": "Python 3",
   "language": "python",
   "name": "python3"
  },
  "language_info": {
   "codemirror_mode": {
    "name": "ipython",
    "version": 3
   },
   "file_extension": ".py",
   "mimetype": "text/x-python",
   "name": "python",
   "nbconvert_exporter": "python",
   "pygments_lexer": "ipython3",
   "version": "3.6.3"
  }
 },
 "nbformat": 4,
 "nbformat_minor": 2
}
